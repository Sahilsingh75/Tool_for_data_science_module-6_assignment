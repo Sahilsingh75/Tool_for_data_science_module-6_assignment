{
 "cells": [
  {
   "cell_type": "markdown",
   "id": "4dd2c56d-bc3d-4627-a1ec-251cb71bc08a",
   "metadata": {},
   "source": [
    "# Data Science Tools and Ecosystem"
   ]
  },
  {
   "cell_type": "markdown",
   "id": "bbf9f882-e7e7-4290-b1fc-542fcc4a4c75",
   "metadata": {},
   "source": [
    "## In this notebook, Data Science Tools and Ecosystem are summarized. "
   ]
  },
  {
   "cell_type": "markdown",
   "id": "6f9ae325-b1c5-453b-b52c-17c24f3a15a1",
   "metadata": {},
   "source": [
    "**Objectives:**\n",
    "\n",
    "- List popular languages for Data Science.\n",
    "- Introduce common libraries used in Data Science.\n",
    "- Create tables and plots using Python.\n",
    "- Perform basic arithmetic operations in Python.\n",
    "- Share a Jupyter Notebook via GitHub."
   ]
  },
  {
   "attachments": {},
   "cell_type": "markdown",
   "id": "aeedb20e-696b-44eb-b38f-3ca0539e00ff",
   "metadata": {},
   "source": [
    "## Some of the popular languages that Data Scientists use are:\n",
    "- Python\n",
    "- R Language\n",
    "- SQL\n",
    "- JAVA"
   ]
  },
  {
   "cell_type": "markdown",
   "id": "8e8ccfe4-d686-4e5e-9803-0ef40816343a",
   "metadata": {},
   "source": [
    "## Some of the commonly used libraries used by Data Scientists include:\n",
    "- Pandas\n",
    "- Numpy\n",
    "- Matplotlib\n",
    "- Keras\n",
    "- Scikit-learn"
   ]
  },
  {
   "cell_type": "markdown",
   "id": "78e1e748-846c-4e97-a9c3-0ae7d77c6953",
   "metadata": {},
   "source": [
    "# Data Science Tools\n",
    "\n",
    "| Data Science Tools |\n",
    "|--------------------|\n",
    "| Jupyter Notebook   |\n",
    "| RStudio            |\n",
    "| Apache Zeppelin    |\n"
   ]
  },
  {
   "cell_type": "markdown",
   "id": "db70fb63-a688-42d2-85f9-bc9df73d473c",
   "metadata": {},
   "source": [
    "### Below are a few examples of evaluating arithmetic expressions in Python:\n",
    "\n",
    "1. Addition: `2 + 3 = 5`\n",
    "2. Subtraction: `5 - 2 = 3`\n",
    "3. Multiplication: `4 * 6 = 24`\n",
    "4. Division: `10 / 2 = 5`\n",
    "5. Exponentiation: `2 ** 3 = 8`\n",
    "6. Modulus: `10 % 3 = 1`"
   ]
  },
  {
   "cell_type": "code",
   "execution_count": 5,
   "id": "ad7d2043-2996-4ba4-a9cd-5423185c36cf",
   "metadata": {},
   "outputs": [
    {
     "data": {
      "text/plain": [
       "17"
      ]
     },
     "execution_count": 5,
     "metadata": {},
     "output_type": "execute_result"
    }
   ],
   "source": [
    "# This is a simple arithmetic expression to multiply then add integers\n",
    "result = (3 * 4) + 5\n",
    "result\n"
   ]
  },
  {
   "cell_type": "code",
   "execution_count": 7,
   "id": "c1a3b0d6-b9c0-44f7-a462-918bcdb11c35",
   "metadata": {},
   "outputs": [
    {
     "data": {
      "text/plain": [
       "3.3333333333333335"
      ]
     },
     "execution_count": 7,
     "metadata": {},
     "output_type": "execute_result"
    }
   ],
   "source": [
    "# This will convert 200 minutes to hours by dividing by 60\n",
    "minutes = 200\n",
    "hours = minutes / 60\n",
    "hours"
   ]
  },
  {
   "cell_type": "markdown",
   "id": "13b69c2c-ed8d-463c-bfb2-2da4459bb0d7",
   "metadata": {},
   "source": [
    "## Author\n",
    "\n",
    "SAHIL SINGH\n"
   ]
  }
 ],
 "metadata": {
  "kernelspec": {
   "display_name": "Python 3 (ipykernel)",
   "language": "python",
   "name": "python3"
  },
  "language_info": {
   "codemirror_mode": {
    "name": "ipython",
    "version": 3
   },
   "file_extension": ".py",
   "mimetype": "text/x-python",
   "name": "python",
   "nbconvert_exporter": "python",
   "pygments_lexer": "ipython3",
   "version": "3.8.2"
  }
 },
 "nbformat": 4,
 "nbformat_minor": 5
}
